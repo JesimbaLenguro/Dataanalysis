{
  "nbformat": 4,
  "nbformat_minor": 0,
  "metadata": {
    "colab": {
      "private_outputs": true,
      "provenance": []
    },
    "kernelspec": {
      "name": "python3",
      "display_name": "Python 3"
    },
    "language_info": {
      "name": "python"
    }
  },
  "cells": [
    {
      "cell_type": "markdown",
      "source": [
        "Load the libraries required"
      ],
      "metadata": {
        "id": "9IyV0Gzzs96t"
      }
    },
    {
      "cell_type": "code",
      "execution_count": null,
      "metadata": {
        "id": "ZiQWaoNgkjZx"
      },
      "outputs": [],
      "source": [
        "import pandas as pd\n",
        "import numpy as np\n",
        "from sklearn.model_selection import train_test_split, GridSearchCV, cross_val_score\n",
        "from sklearn.ensemble import RandomForestClassifier, GradientBoostingClassifier\n",
        "from sklearn.linear_model import LogisticRegression\n",
        "from sklearn.svm import SVC\n",
        "from sklearn.metrics import classification_report, confusion_matrix, roc_auc_score, precision_recall_curve, f1_score\n",
        "from sklearn.preprocessing import LabelEncoder\n",
        "from sklearn.impute import SimpleImputer\n",
        "import matplotlib.pyplot as plt\n",
        "import seaborn as sns"
      ]
    },
    {
      "cell_type": "markdown",
      "source": [
        "# Load the dataset"
      ],
      "metadata": {
        "id": "XObG8KLfm0iY"
      }
    },
    {
      "cell_type": "code",
      "source": [
        "data = pd.read_excel(\"/content/drive/MyDrive/Sample_Claims_Data.xlsx\")"
      ],
      "metadata": {
        "id": "D-Vt-bOcmre6"
      },
      "execution_count": null,
      "outputs": []
    },
    {
      "cell_type": "code",
      "source": [
        "data"
      ],
      "metadata": {
        "id": "kPQG-Hz8m6jC"
      },
      "execution_count": null,
      "outputs": []
    },
    {
      "cell_type": "markdown",
      "source": [
        "# 1. Data Preprocessing"
      ],
      "metadata": {
        "id": "OsAqNXYHnU8Z"
      }
    },
    {
      "cell_type": "code",
      "source": [
        "list(data.columns)"
      ],
      "metadata": {
        "id": "BGQf3Sm5m794"
      },
      "execution_count": null,
      "outputs": []
    },
    {
      "cell_type": "code",
      "source": [
        "data.describe()"
      ],
      "metadata": {
        "id": "uwNlZ9GlndCU"
      },
      "execution_count": null,
      "outputs": []
    },
    {
      "cell_type": "code",
      "source": [
        "data.info()"
      ],
      "metadata": {
        "id": "CSaHVCccniB3"
      },
      "execution_count": null,
      "outputs": []
    },
    {
      "cell_type": "markdown",
      "source": [
        "Checking for missing values"
      ],
      "metadata": {
        "id": "9td5z_T3xtyS"
      }
    },
    {
      "cell_type": "code",
      "source": [
        "print(data.isnull().sum())"
      ],
      "metadata": {
        "id": "cziL-mC5nkjB"
      },
      "execution_count": null,
      "outputs": []
    },
    {
      "cell_type": "markdown",
      "source": [
        "# 1.1 Categorical Feature Distribution (Location, Diagnosis Code, Procedure Code)\n"
      ],
      "metadata": {
        "id": "CVbtXWaIpCki"
      }
    },
    {
      "cell_type": "markdown",
      "source": [
        "Location distribution"
      ],
      "metadata": {
        "id": "PJStjiQzt37f"
      }
    },
    {
      "cell_type": "code",
      "source": [
        "plt.figure(figsize=(30, 6))\n",
        "plt.subplot(1, 2, 1)\n",
        "sns.countplot(data=data, x='Location', palette='Set2')\n",
        "plt.title('Location Distribution')"
      ],
      "metadata": {
        "id": "ZBcPhmbipFT1"
      },
      "execution_count": null,
      "outputs": []
    },
    {
      "cell_type": "markdown",
      "source": [
        "Diagnosis code distribution (Top and Bottom 10 most common diagnosis codes)"
      ],
      "metadata": {
        "id": "us8yhbdruBnF"
      }
    },
    {
      "cell_type": "code",
      "source": [
        "plt.subplot(1, 2, 2)\n",
        "top_diagnosis_codes = data['Diagnosis Code'].value_counts().tail(10)\n",
        "sns.barplot(x=top_diagnosis_codes.index, y=top_diagnosis_codes.values, palette='Set1')\n",
        "plt.title('Bottom 10 Diagnosis Codes')\n",
        "plt.xticks(rotation=45)\n",
        "\n",
        "plt.tight_layout()\n",
        "plt.show()"
      ],
      "metadata": {
        "id": "z_QleYp0pRdB"
      },
      "execution_count": null,
      "outputs": []
    },
    {
      "cell_type": "code",
      "source": [
        "plt.subplot(1, 2, 2)\n",
        "top_diagnosis_codes = data['Diagnosis Code'].value_counts().head(10)\n",
        "sns.barplot(x=top_diagnosis_codes.index, y=top_diagnosis_codes.values, palette='Set1')\n",
        "plt.title('Bottom 10 Diagnosis Codes')\n",
        "plt.xticks(rotation=45)\n",
        "\n",
        "plt.tight_layout()\n",
        "plt.show()"
      ],
      "metadata": {
        "id": "GoiPFRVBueGH"
      },
      "execution_count": null,
      "outputs": []
    },
    {
      "cell_type": "markdown",
      "source": [
        "# 1.2 Numerical Feature Distribution (Claim Amount, Member Age, Previous Claims)"
      ],
      "metadata": {
        "id": "6MeTF7nXpWkR"
      }
    },
    {
      "cell_type": "markdown",
      "source": [
        "Distribution of claim amounts"
      ],
      "metadata": {
        "id": "2s2IhVztuvAY"
      }
    },
    {
      "cell_type": "code",
      "source": [
        "plt.figure(figsize=(12, 6))\n",
        "plt.subplot(1, 2, 1)\n",
        "sns.histplot(data['Claim Amount'], bins=30, kde=True, color='blue')\n",
        "plt.title('Claim Amount Distribution')"
      ],
      "metadata": {
        "id": "fBbzXk3jpX59"
      },
      "execution_count": null,
      "outputs": []
    },
    {
      "cell_type": "markdown",
      "source": [
        "Distribution of member age"
      ],
      "metadata": {
        "id": "Nv07RtQMu2he"
      }
    },
    {
      "cell_type": "code",
      "source": [
        "plt.subplot(1, 2, 2)\n",
        "sns.histplot(data['Member Age'], bins=30, kde=True, color='green')\n",
        "plt.title('Member Age Distribution')\n",
        "\n",
        "plt.tight_layout()\n",
        "plt.show()"
      ],
      "metadata": {
        "id": "6rVPXNDZphk2"
      },
      "execution_count": null,
      "outputs": []
    },
    {
      "cell_type": "markdown",
      "source": [
        "# 1.3 Correlation Heatmap for Numerical Features"
      ],
      "metadata": {
        "id": "97zV6HvwpvDY"
      }
    },
    {
      "cell_type": "code",
      "source": [
        "correlation_matrix = data[['Claim Amount', 'Previous Claims', 'Member Age', 'Fraudulent']].corr()\n",
        "plt.figure(figsize=(8, 6))\n",
        "sns.heatmap(correlation_matrix, annot=True, cmap='coolwarm', fmt='.2f')\n",
        "plt.title('Correlation Heatmap for Numerical Features')\n",
        "plt.show()"
      ],
      "metadata": {
        "id": "CQzxg6u1pxFf"
      },
      "execution_count": null,
      "outputs": []
    },
    {
      "cell_type": "markdown",
      "source": [
        "# 2. Data Preprocessing"
      ],
      "metadata": {
        "id": "4AmI1k8Rp9qC"
      }
    },
    {
      "cell_type": "markdown",
      "source": [
        "Convert date columns to datetime format"
      ],
      "metadata": {
        "id": "xiu6Rrr6u_FN"
      }
    },
    {
      "cell_type": "code",
      "source": [
        "data['Date of Service'] = pd.to_datetime(data['Date of Service'])\n",
        "data['Claim Submission Date'] = pd.to_datetime(data['Claim Submission Date'])\n"
      ],
      "metadata": {
        "id": "JrynFQNKp-nI"
      },
      "execution_count": null,
      "outputs": []
    },
    {
      "cell_type": "markdown",
      "source": [
        "# 3. Feature Engineering"
      ],
      "metadata": {
        "id": "GdnYK5j2oAcB"
      }
    },
    {
      "cell_type": "markdown",
      "source": [
        "Create a new feature for claim amount being unusually high (flagging high claims)"
      ],
      "metadata": {
        "id": "c6qhmqv-vEqM"
      }
    },
    {
      "cell_type": "code",
      "source": [
        "mean_claim_amount = data['Claim Amount'].mean()\n",
        "std_claim_amount = data['Claim Amount'].std()\n",
        "data['High Claim Amount'] = (data['Claim Amount'] > (mean_claim_amount + 2 * std_claim_amount)).astype(int)\n"
      ],
      "metadata": {
        "id": "tK1a37KIn5Vc"
      },
      "execution_count": null,
      "outputs": []
    },
    {
      "cell_type": "markdown",
      "source": [
        "Create a feature indicating a mismatch between Diagnosis and Procedure Codes (simple rule-based logic)"
      ],
      "metadata": {
        "id": "BCq7S6dZvKQ8"
      }
    },
    {
      "cell_type": "code",
      "source": [
        "data['Procedure Code Valid'] = (data['Procedure Code'] != 0).astype(int)"
      ],
      "metadata": {
        "id": "hU5HPzkEoG5c"
      },
      "execution_count": null,
      "outputs": []
    },
    {
      "cell_type": "markdown",
      "source": [
        "Create a flag for frequent claim submissions"
      ],
      "metadata": {
        "id": "j4tvU3_7vPUs"
      }
    },
    {
      "cell_type": "code",
      "source": [
        "data['Frequent Claim'] = (data['Previous Claims'] > 3).astype(int)"
      ],
      "metadata": {
        "id": "qxOCbdI-oRRy"
      },
      "execution_count": null,
      "outputs": []
    },
    {
      "cell_type": "markdown",
      "source": [
        "Label Encoding: categorical to numeric(columns)"
      ],
      "metadata": {
        "id": "Tf9dbzbbvT07"
      }
    },
    {
      "cell_type": "code",
      "source": [
        "label_encoder = LabelEncoder()\n",
        "data['Location'] = label_encoder.fit_transform(data['Location'])"
      ],
      "metadata": {
        "id": "bMMeuy5kqYZF"
      },
      "execution_count": null,
      "outputs": []
    },
    {
      "cell_type": "markdown",
      "source": [
        "# 4. Split the dataset into train and test sets"
      ],
      "metadata": {
        "id": "6XV_1FJ1qfGM"
      }
    },
    {
      "cell_type": "code",
      "source": [
        "X = data[['Claim Amount', 'Previous Claims', 'Member Age', 'High Claim Amount',\n",
        "          'Procedure Code Valid', 'Frequent Claim', 'Location']]\n",
        "y = data['Fraudulent']\n",
        "\n",
        "X_train, X_test, y_train, y_test = train_test_split(X, y, test_size=0.2, random_state=42)\n"
      ],
      "metadata": {
        "id": "lz5Ri5O0qbwU"
      },
      "execution_count": null,
      "outputs": []
    },
    {
      "cell_type": "markdown",
      "source": [
        "Function to train and evaluate different classifiers of models. Usinge different metrics to check performance."
      ],
      "metadata": {
        "id": "dGeSim3bvgKr"
      }
    },
    {
      "cell_type": "code",
      "source": [
        "def train_and_evaluate_model(model, model_name, X_train, X_test, y_train, y_test):\n",
        "    model.fit(X_train, y_train)\n",
        "    y_pred = model.predict(X_test)\n",
        "    y_pred_proba = model.predict_proba(X_test)[:, 1]\n",
        "\n",
        "    # Metrics\n",
        "    print(f\"{model_name} Classification Report:\")\n",
        "    print(classification_report(y_test, y_pred))\n",
        "    print(f\"Confusion Matrix ({model_name}):\")\n",
        "    print(confusion_matrix(y_test, y_pred))\n",
        "    print(f\"ROC-AUC Score ({model_name}): {roc_auc_score(y_test, y_pred_proba):.2f}\")\n",
        "\n",
        "    # Precision-Recall Curve\n",
        "    precision, recall, _ = precision_recall_curve(y_test, y_pred_proba)\n",
        "    plt.figure(figsize=(8, 6))\n",
        "    plt.plot(recall, precision, label=f'{model_name}')\n",
        "    plt.xlabel('Recall')\n",
        "    plt.ylabel('Precision')\n",
        "    plt.title('Precision-Recall Curve')\n",
        "    plt.legend()\n",
        "    plt.show()\n",
        "\n",
        "    # F1-Score\n",
        "    f1 = f1_score(y_test, y_pred)\n",
        "    print(f\"F1-Score for {model_name}: {f1:.2f}\")\n",
        "\n",
        "    return model"
      ],
      "metadata": {
        "id": "YQxOwjp0qkRO"
      },
      "execution_count": null,
      "outputs": []
    },
    {
      "cell_type": "markdown",
      "source": [
        "# 5. Model Building - Logistic Regression, Random Forest, Gradient Boosting, and SVM"
      ],
      "metadata": {
        "id": "LfqWjo_SrGjO"
      }
    },
    {
      "cell_type": "code",
      "source": [
        "logreg_model = LogisticRegression(max_iter=1000)\n",
        "rf_model = RandomForestClassifier(n_estimators=100, random_state=42)\n",
        "gb_model = GradientBoostingClassifier(n_estimators=100, random_state=42)\n",
        "svm_model = SVC(probability=True, random_state=42)"
      ],
      "metadata": {
        "id": "sSZ21qmHq5uz"
      },
      "execution_count": null,
      "outputs": []
    },
    {
      "cell_type": "markdown",
      "source": [
        "Training and models evaluation classification reports, confusion matrics,f1 score, accuracy."
      ],
      "metadata": {
        "id": "IQGDUOZAv03W"
      }
    },
    {
      "cell_type": "code",
      "source": [
        "logreg_model = train_and_evaluate_model(logreg_model, \"Logistic Regression\", X_train, X_test, y_train, y_test)\n",
        "rf_model = train_and_evaluate_model(rf_model, \"Random Forest\", X_train, X_test, y_train, y_test)\n",
        "gb_model = train_and_evaluate_model(gb_model, \"Gradient Boosting\", X_train, X_test, y_train, y_test)\n",
        "svm_model = train_and_evaluate_model(svm_model, \"SVM\", X_train, X_test, y_train, y_test)"
      ],
      "metadata": {
        "id": "fohhgHchrLII"
      },
      "execution_count": null,
      "outputs": []
    },
    {
      "cell_type": "markdown",
      "source": [
        "# 6. Hyperparameter Tuning (example for Random Forest using GridSearchCV)"
      ],
      "metadata": {
        "id": "jQEC8XMXrY9q"
      }
    },
    {
      "cell_type": "code",
      "source": [
        "param_grid_rf = {\n",
        "    'n_estimators': [50, 100, 150],\n",
        "    'max_depth': [None, 10, 20, 30],\n",
        "    'min_samples_split': [2, 5, 10],\n",
        "    'min_samples_leaf': [1, 2, 4],\n",
        "    'bootstrap': [True, False]\n",
        "}\n",
        "\n",
        "grid_search_rf = GridSearchCV(estimator=rf_model, param_grid=param_grid_rf, cv=5, n_jobs=-1, scoring='roc_auc')\n",
        "grid_search_rf.fit(X_train, y_train)\n",
        "\n",
        "print(f\"Best Parameters for Random Forest: {grid_search_rf.best_params_}\")\n",
        "print(f\"Best Cross-Validation Score for Random Forest: {grid_search_rf.best_score_:.2f}\")"
      ],
      "metadata": {
        "id": "E3cAc4AtrP5P"
      },
      "execution_count": null,
      "outputs": []
    },
    {
      "cell_type": "markdown",
      "source": [
        "Training the optimized Random Forest model : had the highest accuracy ."
      ],
      "metadata": {
        "id": "o0k-Gh7YwIup"
      }
    },
    {
      "cell_type": "code",
      "source": [
        "best_rf_model = grid_search_rf.best_estimator_\n",
        "best_rf_model.fit(X_train, y_train)\n",
        "y_pred_rf = best_rf_model.predict(X_test)\n",
        "print(f\"Optimized Random Forest ROC-AUC Score: {roc_auc_score(y_test, best_rf_model.predict_proba(X_test)[:, 1]):.2f}\")\n"
      ],
      "metadata": {
        "id": "CdfcLZXPrerX"
      },
      "execution_count": null,
      "outputs": []
    },
    {
      "cell_type": "markdown",
      "source": [
        "# 7. Risk Scoring"
      ],
      "metadata": {
        "id": "E1uoMjsQrp_4"
      }
    },
    {
      "cell_type": "markdown",
      "source": [
        "Assigning the risk scores to each claim (probabilities of being fraudulent from the Random Forest(the chosen) model)"
      ],
      "metadata": {
        "id": "-VhGMvWuwVEB"
      }
    },
    {
      "cell_type": "code",
      "source": [
        "data['Risk Score'] = best_rf_model.predict_proba(X)[:, 1]"
      ],
      "metadata": {
        "id": "HE2FQDPOrrNc"
      },
      "execution_count": null,
      "outputs": []
    },
    {
      "cell_type": "markdown",
      "source": [
        "Show the top and bottom 10 risk scores"
      ],
      "metadata": {
        "id": "n1Ch1L48wgcH"
      }
    },
    {
      "cell_type": "code",
      "source": [
        "# Top 10 claims with the highest risk scores\n",
        "top_10_risky_claims = data[['Claim ID', 'Risk Score']].sort_values(by='Risk Score', ascending=False).head(10)\n",
        "print(\"\\nTop 10 Claims with the Highest Risk Scores:\")\n",
        "print(top_10_risky_claims)"
      ],
      "metadata": {
        "id": "xx4FM9zwr4vZ"
      },
      "execution_count": null,
      "outputs": []
    },
    {
      "cell_type": "code",
      "source": [
        "# Bottom 10 claims with the lowest risk scores\n",
        "bottom_10_risky_claims = data[['Claim ID', 'Risk Score']].sort_values(by='Risk Score', ascending=False).tail(10)\n",
        "print(\"\\nBottom 10 Claims with the Lowest Risk Scores:\")\n",
        "print(bottom_10_risky_claims)"
      ],
      "metadata": {
        "id": "8bkTYkANwut0"
      },
      "execution_count": null,
      "outputs": []
    },
    {
      "cell_type": "markdown",
      "source": [
        "# 8. Cross-Validation (for Random Forest)"
      ],
      "metadata": {
        "id": "NRhbR_1Br8un"
      }
    },
    {
      "cell_type": "code",
      "source": [
        "cv_scores_rf = cross_val_score(best_rf_model, X, y, cv=5, scoring='roc_auc')\n",
        "print(f\"Random Forest Cross-Validation ROC-AUC Scores: {cv_scores_rf}\")\n",
        "print(f\"Mean ROC-AUC Score for Random Forest: {cv_scores_rf.mean():.2f}\")"
      ],
      "metadata": {
        "id": "UR1aaNwVr-OZ"
      },
      "execution_count": null,
      "outputs": []
    },
    {
      "cell_type": "markdown",
      "source": [
        "# 9. Feature Importance"
      ],
      "metadata": {
        "id": "ibMeWWMbsE9q"
      }
    },
    {
      "cell_type": "code",
      "source": [
        "feature_importances = best_rf_model.feature_importances_\n",
        "features = X.columns\n",
        "plt.figure(figsize=(10, 6))\n",
        "sns.barplot(x=features, y=feature_importances)\n",
        "plt.title('Feature Importance ( Random Forest)')\n",
        "plt.xticks(rotation=45)\n",
        "plt.show()"
      ],
      "metadata": {
        "id": "Si_063BOsF4B"
      },
      "execution_count": null,
      "outputs": []
    },
    {
      "cell_type": "code",
      "source": [],
      "metadata": {
        "id": "KkFjOO3-s6LH"
      },
      "execution_count": null,
      "outputs": []
    }
  ]
}